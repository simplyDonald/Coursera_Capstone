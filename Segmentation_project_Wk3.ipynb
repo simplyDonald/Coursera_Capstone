{
  "nbformat": 4,
  "nbformat_minor": 0,
  "metadata": {
    "colab": {
      "name": "Segmentation_project_Wk3.ipynb",
      "provenance": []
    },
    "kernelspec": {
      "name": "python3",
      "display_name": "Python 3"
    }
  },
  "cells": [
    {
      "cell_type": "code",
      "metadata": {
        "id": "zq9amxOyfAys",
        "colab_type": "code",
        "colab": {}
      },
      "source": [
        "import random # library for random number generation\n",
        "import numpy as np # library for vectorized computation\n",
        "import pandas as pd # library to process data as dataframes\n",
        "\n",
        "import matplotlib.pyplot as plt # plotting library\n",
        "# backend for rendering plots within the browser\n",
        "%matplotlib inline \n",
        "\n",
        "from sklearn.cluster import KMeans \n",
        "from sklearn.datasets.samples_generator import make_blobs\n",
        "\n",
        "print('Libraries imported.')\n"
      ],
      "execution_count": 0,
      "outputs": []
    },
    {
      "cell_type": "markdown",
      "metadata": {
        "id": "H8gWKbUu-I-s",
        "colab_type": "text"
      },
      "source": [
        "### Part 1: Parsing html data"
      ]
    },
    {
      "cell_type": "code",
      "metadata": {
        "id": "7VkEoSlEgvXQ",
        "colab_type": "code",
        "colab": {
          "base_uri": "https://localhost:8080/",
          "height": 520
        },
        "outputId": "77cf3d69-741a-4e3a-dcdc-6f218932794b"
      },
      "source": [
        "tab = pd.read_html('https://en.wikipedia.org/wiki/List_of_postal_codes_of_Canada:_M')\n",
        "#read_html returns a list so we parse through with list indexing\n",
        "tab = tab[0]\n",
        "#rename the postal code column forconsistency\n",
        "tab.rename(columns={\"Postal Code\":\"PostalCode\"},inplace=True)\n",
        "tab.head(15)"
      ],
      "execution_count": 92,
      "outputs": [
        {
          "output_type": "execute_result",
          "data": {
            "text/html": [
              "<div>\n",
              "<style scoped>\n",
              "    .dataframe tbody tr th:only-of-type {\n",
              "        vertical-align: middle;\n",
              "    }\n",
              "\n",
              "    .dataframe tbody tr th {\n",
              "        vertical-align: top;\n",
              "    }\n",
              "\n",
              "    .dataframe thead th {\n",
              "        text-align: right;\n",
              "    }\n",
              "</style>\n",
              "<table border=\"1\" class=\"dataframe\">\n",
              "  <thead>\n",
              "    <tr style=\"text-align: right;\">\n",
              "      <th></th>\n",
              "      <th>PostalCode</th>\n",
              "      <th>Borough</th>\n",
              "      <th>Neighborhood</th>\n",
              "    </tr>\n",
              "  </thead>\n",
              "  <tbody>\n",
              "    <tr>\n",
              "      <th>0</th>\n",
              "      <td>M1A</td>\n",
              "      <td>Not assigned</td>\n",
              "      <td>Not assigned</td>\n",
              "    </tr>\n",
              "    <tr>\n",
              "      <th>1</th>\n",
              "      <td>M2A</td>\n",
              "      <td>Not assigned</td>\n",
              "      <td>Not assigned</td>\n",
              "    </tr>\n",
              "    <tr>\n",
              "      <th>2</th>\n",
              "      <td>M3A</td>\n",
              "      <td>North York</td>\n",
              "      <td>Parkwoods</td>\n",
              "    </tr>\n",
              "    <tr>\n",
              "      <th>3</th>\n",
              "      <td>M4A</td>\n",
              "      <td>North York</td>\n",
              "      <td>Victoria Village</td>\n",
              "    </tr>\n",
              "    <tr>\n",
              "      <th>4</th>\n",
              "      <td>M5A</td>\n",
              "      <td>Downtown Toronto</td>\n",
              "      <td>Regent Park, Harbourfront</td>\n",
              "    </tr>\n",
              "    <tr>\n",
              "      <th>5</th>\n",
              "      <td>M6A</td>\n",
              "      <td>North York</td>\n",
              "      <td>Lawrence Manor, Lawrence Heights</td>\n",
              "    </tr>\n",
              "    <tr>\n",
              "      <th>6</th>\n",
              "      <td>M7A</td>\n",
              "      <td>Downtown Toronto</td>\n",
              "      <td>Queen's Park, Ontario Provincial Government</td>\n",
              "    </tr>\n",
              "    <tr>\n",
              "      <th>7</th>\n",
              "      <td>M8A</td>\n",
              "      <td>Not assigned</td>\n",
              "      <td>Not assigned</td>\n",
              "    </tr>\n",
              "    <tr>\n",
              "      <th>8</th>\n",
              "      <td>M9A</td>\n",
              "      <td>Etobicoke</td>\n",
              "      <td>Islington Avenue, Humber Valley Village</td>\n",
              "    </tr>\n",
              "    <tr>\n",
              "      <th>9</th>\n",
              "      <td>M1B</td>\n",
              "      <td>Scarborough</td>\n",
              "      <td>Malvern, Rouge</td>\n",
              "    </tr>\n",
              "    <tr>\n",
              "      <th>10</th>\n",
              "      <td>M2B</td>\n",
              "      <td>Not assigned</td>\n",
              "      <td>Not assigned</td>\n",
              "    </tr>\n",
              "    <tr>\n",
              "      <th>11</th>\n",
              "      <td>M3B</td>\n",
              "      <td>North York</td>\n",
              "      <td>Don Mills</td>\n",
              "    </tr>\n",
              "    <tr>\n",
              "      <th>12</th>\n",
              "      <td>M4B</td>\n",
              "      <td>East York</td>\n",
              "      <td>Parkview Hill, Woodbine Gardens</td>\n",
              "    </tr>\n",
              "    <tr>\n",
              "      <th>13</th>\n",
              "      <td>M5B</td>\n",
              "      <td>Downtown Toronto</td>\n",
              "      <td>Garden District, Ryerson</td>\n",
              "    </tr>\n",
              "    <tr>\n",
              "      <th>14</th>\n",
              "      <td>M6B</td>\n",
              "      <td>North York</td>\n",
              "      <td>Glencairn</td>\n",
              "    </tr>\n",
              "  </tbody>\n",
              "</table>\n",
              "</div>"
            ],
            "text/plain": [
              "   PostalCode           Borough                                 Neighborhood\n",
              "0         M1A      Not assigned                                 Not assigned\n",
              "1         M2A      Not assigned                                 Not assigned\n",
              "2         M3A        North York                                    Parkwoods\n",
              "3         M4A        North York                             Victoria Village\n",
              "4         M5A  Downtown Toronto                    Regent Park, Harbourfront\n",
              "5         M6A        North York             Lawrence Manor, Lawrence Heights\n",
              "6         M7A  Downtown Toronto  Queen's Park, Ontario Provincial Government\n",
              "7         M8A      Not assigned                                 Not assigned\n",
              "8         M9A         Etobicoke      Islington Avenue, Humber Valley Village\n",
              "9         M1B       Scarborough                               Malvern, Rouge\n",
              "10        M2B      Not assigned                                 Not assigned\n",
              "11        M3B        North York                                    Don Mills\n",
              "12        M4B         East York              Parkview Hill, Woodbine Gardens\n",
              "13        M5B  Downtown Toronto                     Garden District, Ryerson\n",
              "14        M6B        North York                                    Glencairn"
            ]
          },
          "metadata": {
            "tags": []
          },
          "execution_count": 92
        }
      ]
    },
    {
      "cell_type": "markdown",
      "metadata": {
        "id": "81iOOWM9-FyA",
        "colab_type": "text"
      },
      "source": [
        ""
      ]
    },
    {
      "cell_type": "code",
      "metadata": {
        "id": "K-OwGfewjrcw",
        "colab_type": "code",
        "colab": {
          "base_uri": "https://localhost:8080/",
          "height": 206
        },
        "outputId": "59e5847b-af60-41d8-bdd2-0172a71bb68f"
      },
      "source": [
        "#drop rows/entries with 'Not assigned' values and reset the index\n",
        "tab = tab[tab.Borough != 'Not assigned']\n",
        "tab.reset_index(inplace=True)\n",
        "tab.drop('index',axis=1,inplace=True)\n",
        "tab.head()"
      ],
      "execution_count": 93,
      "outputs": [
        {
          "output_type": "execute_result",
          "data": {
            "text/html": [
              "<div>\n",
              "<style scoped>\n",
              "    .dataframe tbody tr th:only-of-type {\n",
              "        vertical-align: middle;\n",
              "    }\n",
              "\n",
              "    .dataframe tbody tr th {\n",
              "        vertical-align: top;\n",
              "    }\n",
              "\n",
              "    .dataframe thead th {\n",
              "        text-align: right;\n",
              "    }\n",
              "</style>\n",
              "<table border=\"1\" class=\"dataframe\">\n",
              "  <thead>\n",
              "    <tr style=\"text-align: right;\">\n",
              "      <th></th>\n",
              "      <th>PostalCode</th>\n",
              "      <th>Borough</th>\n",
              "      <th>Neighborhood</th>\n",
              "    </tr>\n",
              "  </thead>\n",
              "  <tbody>\n",
              "    <tr>\n",
              "      <th>0</th>\n",
              "      <td>M3A</td>\n",
              "      <td>North York</td>\n",
              "      <td>Parkwoods</td>\n",
              "    </tr>\n",
              "    <tr>\n",
              "      <th>1</th>\n",
              "      <td>M4A</td>\n",
              "      <td>North York</td>\n",
              "      <td>Victoria Village</td>\n",
              "    </tr>\n",
              "    <tr>\n",
              "      <th>2</th>\n",
              "      <td>M5A</td>\n",
              "      <td>Downtown Toronto</td>\n",
              "      <td>Regent Park, Harbourfront</td>\n",
              "    </tr>\n",
              "    <tr>\n",
              "      <th>3</th>\n",
              "      <td>M6A</td>\n",
              "      <td>North York</td>\n",
              "      <td>Lawrence Manor, Lawrence Heights</td>\n",
              "    </tr>\n",
              "    <tr>\n",
              "      <th>4</th>\n",
              "      <td>M7A</td>\n",
              "      <td>Downtown Toronto</td>\n",
              "      <td>Queen's Park, Ontario Provincial Government</td>\n",
              "    </tr>\n",
              "  </tbody>\n",
              "</table>\n",
              "</div>"
            ],
            "text/plain": [
              "  PostalCode           Borough                                 Neighborhood\n",
              "0        M3A        North York                                    Parkwoods\n",
              "1        M4A        North York                             Victoria Village\n",
              "2        M5A  Downtown Toronto                    Regent Park, Harbourfront\n",
              "3        M6A        North York             Lawrence Manor, Lawrence Heights\n",
              "4        M7A  Downtown Toronto  Queen's Park, Ontario Provincial Government"
            ]
          },
          "metadata": {
            "tags": []
          },
          "execution_count": 93
        }
      ]
    },
    {
      "cell_type": "markdown",
      "metadata": {
        "id": "ONpR-LL12CTY",
        "colab_type": "text"
      },
      "source": [
        "### To find out the number of rows contained in our data we use the .shape method"
      ]
    },
    {
      "cell_type": "code",
      "metadata": {
        "id": "zIAwmXKu0REg",
        "colab_type": "code",
        "colab": {
          "base_uri": "https://localhost:8080/",
          "height": 34
        },
        "outputId": "4fcc9064-b197-42b6-e71a-c157c9fe8e02"
      },
      "source": [
        "print(\"Our Dataframe has {} rows\".format(tab.shape[0]))"
      ],
      "execution_count": 94,
      "outputs": [
        {
          "output_type": "stream",
          "text": [
            "Our Dataframe has 103 rows\n"
          ],
          "name": "stdout"
        }
      ]
    },
    {
      "cell_type": "markdown",
      "metadata": {
        "id": "X1MrXZ9CBoRU",
        "colab_type": "text"
      },
      "source": [
        "## Part 2: Getting the location coordinates"
      ]
    },
    {
      "cell_type": "code",
      "metadata": {
        "id": "B1_mcamnB7Yw",
        "colab_type": "code",
        "colab": {}
      },
      "source": [
        "import geocoder # import geocoder\n",
        "\n",
        "# initialize your variable to None\n",
        "lat_lng_coords = None\n",
        "\n",
        "# loop until you get the coordinates\n",
        "while(lat_lng_coords is None):\n",
        "  g = geocoder.google('{}, Toronto, Ontario'.format(postal_code))\n",
        "  lat_lng_coords = g.latlng\n",
        "\n",
        "latitude = lat_lng_coords[0]\n",
        "longitude = lat_lng_coords[1]"
      ],
      "execution_count": 0,
      "outputs": []
    }
  ]
}